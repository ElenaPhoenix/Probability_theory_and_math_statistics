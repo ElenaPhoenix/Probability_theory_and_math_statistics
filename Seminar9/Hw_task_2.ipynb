{
 "cells": [
  {
   "attachments": {},
   "cell_type": "markdown",
   "metadata": {},
   "source": [
    "**Посчитать коэффициент линейной регрессии при заработной плате (zp), используя градиентный спуск (без intercept).**"
   ]
  },
  {
   "cell_type": "code",
   "execution_count": 18,
   "metadata": {},
   "outputs": [
    {
     "name": "stdout",
     "output_type": "stream",
     "text": [
      "Расчет методом градиентного спуска без intercept \n",
      "ŷ = b1 ∗ x\n"
     ]
    }
   ],
   "source": [
    "import numpy as np\n",
    "import matplotlib.pyplot as plt\n",
    "\n",
    "\n",
    "# Функция потерь 𝑚𝑠𝑒 = (∑(𝑦 − 𝑦_𝑝𝑟𝑒𝑑)^2) / 𝑛\n",
    "x = np.array([35, 45, 190, 200, 40, 70, 54, 150, 120, 110])\n",
    "y = np.array([401, 574, 874, 919, 459, 739, 653, 902, 746, 832])\n",
    "print(f'Расчет методом градиентного спуска без intercept \\nŷ = b1 ∗ x')"
   ]
  },
  {
   "cell_type": "code",
   "execution_count": 19,
   "metadata": {},
   "outputs": [
    {
     "name": "stdout",
     "output_type": "stream",
     "text": [
      "Iteration = 0, b1 = 0.25952808, mse = 493237.7212546963\n",
      "Iteration = 100, b1 = 5.54537842245223, mse = 58151.31823171113\n",
      "Iteration = 200, b1 = 5.868748638669329, mse = 56522.97550129376\n",
      "Iteration = 300, b1 = 5.888531320728348, mse = 56516.88130936019\n",
      "Iteration = 400, b1 = 5.8897415574471985, mse = 56516.85850140053\n",
      "Iteration = 500, b1 = 5.889815595583751, mse = 56516.858416040064\n",
      "Iteration = 600, b1 = 5.889820124983314, mse = 56516.85841572062\n",
      "Iteration = 700, b1 = 5.889820402076462, mse = 56516.85841571941\n",
      "Iteration = 800, b1 = 5.88982041902807, mse = 56516.8584157194\n",
      "Iteration = 900, b1 = 5.889820420065112, mse = 56516.85841571941\n",
      "Iteration = 1000, b1 = 5.8898204201285544, mse = 56516.85841571941\n"
     ]
    }
   ],
   "source": [
    "def mse_(B1, y=y, x=x, n=10):\n",
    "    return ((B1 * x - y)**2).sum() / n\n",
    "\n",
    "alpha = 1e-6\n",
    "b1 = 0.1\n",
    "n=10\n",
    "\n",
    "for i in range(1001):\n",
    "    b1 -= alpha * (2/n) * np.sum((b1*x - y) * x)\n",
    "    if i%100 == 0:\n",
    "        print(f'Iteration = {i}, b1 = {b1}, mse = {mse_(b1)}')"
   ]
  },
  {
   "cell_type": "code",
   "execution_count": 4,
   "metadata": {},
   "outputs": [
    {
     "name": "stdout",
     "output_type": "stream",
     "text": [
      "Функция потерь при b1 = 5.89: mse = 56516.86\n"
     ]
    }
   ],
   "source": [
    "print(f'Функция потерь при b1 = {round(b1, 2)}: mse = {round(mse_(b1), 2)}')"
   ]
  },
  {
   "cell_type": "code",
   "execution_count": 5,
   "metadata": {},
   "outputs": [
    {
     "name": "stdout",
     "output_type": "stream",
     "text": [
      "Коэффициент b1: 5.89\n"
     ]
    }
   ],
   "source": [
    "print(f'Коэффициент b1: {round(b1, 2)}')"
   ]
  },
  {
   "cell_type": "code",
   "execution_count": 6,
   "metadata": {},
   "outputs": [
    {
     "name": "stdout",
     "output_type": "stream",
     "text": [
      "Уравнение линейной регрессии: ŷ = 5.89 * x\n"
     ]
    }
   ],
   "source": [
    "print(f'Уравнение линейной регрессии: ŷ = {round(b1, 2)} * x')"
   ]
  }
 ],
 "metadata": {
  "kernelspec": {
   "display_name": "Python 3",
   "language": "python",
   "name": "python3"
  },
  "language_info": {
   "codemirror_mode": {
    "name": "ipython",
    "version": 3
   },
   "file_extension": ".py",
   "mimetype": "text/x-python",
   "name": "python",
   "nbconvert_exporter": "python",
   "pygments_lexer": "ipython3",
   "version": "3.11.1"
  },
  "orig_nbformat": 4
 },
 "nbformat": 4,
 "nbformat_minor": 2
}
