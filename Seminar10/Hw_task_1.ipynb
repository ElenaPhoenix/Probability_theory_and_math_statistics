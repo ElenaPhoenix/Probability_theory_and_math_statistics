{
 "cells": [
  {
   "attachments": {},
   "cell_type": "markdown",
   "id": "943af236",
   "metadata": {},
   "source": [
    "**Провести дисперсионный анализ для определения того, есть ли различия среднего роста среди взрослых футболистов, хоккеистов и штангистов. Даны значения роста в трех группах случайно выбранных спортсменов:  \n",
    "Футболисты: 173, 175, 180, 178, 177, 185, 183, 182.  \n",
    "Хоккеисты: 177, 179, 180, 188, 177, 172, 171, 184, 180.  \n",
    "Штангисты: 172, 173, 169, 177, 166, 180, 178, 177, 172, 166, 170.**"
   ]
  },
  {
   "cell_type": "code",
   "execution_count": 1,
   "id": "514272cf",
   "metadata": {},
   "outputs": [
    {
     "name": "stdout",
     "output_type": "stream",
     "text": [
      "BartlettResult(statistic=0.7796406451779011, pvalue=0.6771785372542051)\n"
     ]
    }
   ],
   "source": [
    "import numpy as np\n",
    "from scipy import stats\n",
    "\n",
    "y1 = np.array([173, 175, 180, 178, 177, 185, 183, 182, 180])\n",
    "y2 = np.array([177, 179, 180, 188, 177, 172, 171, 184, 180])\n",
    "y3 = np.array([172, 173, 169, 177, 166, 180, 178, 177, 172])\n",
    "print(stats.bartlett(y1, y2, y3)) "
   ]
  },
  {
   "cell_type": "code",
   "execution_count": 2,
   "id": "83dee4a3",
   "metadata": {},
   "outputs": [
    {
     "name": "stdout",
     "output_type": "stream",
     "text": [
      "ShapiroResult(statistic=0.9827216267585754, pvalue=0.9768005013465881)\n",
      "ShapiroResult(statistic=0.9579196572303772, pvalue=0.7763139009475708)\n",
      "ShapiroResult(statistic=0.9514563679695129, pvalue=0.706058144569397)\n"
     ]
    }
   ],
   "source": [
    "# Проверкa на нормальность\n",
    "print(stats.shapiro(y1))\n",
    "print(stats.shapiro(y2))\n",
    "print(stats.shapiro(y3))"
   ]
  },
  {
   "cell_type": "code",
   "execution_count": 3,
   "id": "9b520d9b",
   "metadata": {},
   "outputs": [
    {
     "name": "stdout",
     "output_type": "stream",
     "text": [
      "F_onewayResult(statistic=3.7635893011216557, pvalue=0.0378715967137819)\n"
     ]
    }
   ],
   "source": [
    "# Расчет с помощью функции\n",
    "f = stats.f_oneway(y1, y2, y3)\n",
    "print(f)"
   ]
  },
  {
   "cell_type": "markdown",
   "id": "0bae11b1",
   "metadata": {},
   "source": [
    "Вывод: pvalue=0.01 < alpha=0.05 => попадаем в область принятия альтернативной гипотезы. \n",
    "Есть различия среднего роста среди взрослых футболистов, хоккеистов и штангистов"
   ]
  }
 ],
 "metadata": {
  "kernelspec": {
   "display_name": "Python 3 (ipykernel)",
   "language": "python",
   "name": "python3"
  },
  "language_info": {
   "codemirror_mode": {
    "name": "ipython",
    "version": 3
   },
   "file_extension": ".py",
   "mimetype": "text/x-python",
   "name": "python",
   "nbconvert_exporter": "python",
   "pygments_lexer": "ipython3",
   "version": "3.11.1"
  }
 },
 "nbformat": 4,
 "nbformat_minor": 5
}
