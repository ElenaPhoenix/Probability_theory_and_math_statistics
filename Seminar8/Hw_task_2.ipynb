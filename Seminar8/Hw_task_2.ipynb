{
 "cells": [
  {
   "attachments": {},
   "cell_type": "markdown",
   "metadata": {},
   "source": [
    "**Измерены значения IQ выборки студентов, обучающихся в местных технических вузах: 131, 125, 115, 122, 131, 115, 107, 99, 125, 111.  \n",
    "Известно, что в генеральной совокупности IQ распределен нормально. Найдите доверительный интервал для математического ожидания с надежностью 0.95.**"
   ]
  },
  {
   "cell_type": "code",
   "execution_count": 3,
   "metadata": {},
   "outputs": [
    {
     "name": "stdout",
     "output_type": "stream",
     "text": [
      "[110.56; 125.64]\n"
     ]
    }
   ],
   "source": [
    "import numpy as np\n",
    "import scipy.stats as stats\n",
    "\n",
    "# Х ± 𝑡_(𝛼/2) ∗ 𝜎/√𝑛\n",
    "a = np.array([131, 125, 115, 122, 131, 115, 107, 99, 125, 111])\n",
    "n = len(a) # 10\n",
    "X = np.mean(a) # 118.1\n",
    "𝜎 = np.std(a, ddof=1) # 10.546\n",
    "t = stats.t.ppf(0.975, len(a)-1) # 2.262\n",
    "print(f'[{round(X-t*𝜎/np.sqrt(n), 2)}; {round(X+t*𝜎/np.sqrt(n), 2)}]')"
   ]
  }
 ],
 "metadata": {
  "kernelspec": {
   "display_name": "Python 3",
   "language": "python",
   "name": "python3"
  },
  "language_info": {
   "codemirror_mode": {
    "name": "ipython",
    "version": 3
   },
   "file_extension": ".py",
   "mimetype": "text/x-python",
   "name": "python",
   "nbconvert_exporter": "python",
   "pygments_lexer": "ipython3",
   "version": "3.11.1"
  },
  "orig_nbformat": 4
 },
 "nbformat": 4,
 "nbformat_minor": 2
}
