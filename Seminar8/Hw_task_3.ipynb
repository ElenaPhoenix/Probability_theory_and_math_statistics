{
 "cells": [
  {
   "attachments": {},
   "cell_type": "markdown",
   "metadata": {},
   "source": [
    "**Известно, что рост футболистов в сборной распределен нормально с дисперсией генеральной совокупности, равной 25 кв.см. Объем выборки равен 27, среднее выборочное составляет 174.2. Найдите доверительный интервал для математического ожидания с надежностью 0.95.**"
   ]
  },
  {
   "cell_type": "code",
   "execution_count": 1,
   "metadata": {},
   "outputs": [
    {
     "name": "stdout",
     "output_type": "stream",
     "text": [
      "[172.31; 176.09]\n"
     ]
    }
   ],
   "source": [
    "# Х ± 𝑍_(𝛼/2) ∗ 𝜎/√𝑛\n",
    "Х  = 174.2\n",
    "Z = 1.96 # для 𝛼 = 0.05/2 = 0.025\n",
    "𝜎 = 5 # √25 = 5\n",
    "𝑛 = 27\n",
    "print(f'[{round(Х - Z * 𝜎 / (n)**0.5, 2)}; {round(Х + Z * 𝜎 / (n)**0.5, 2)}]') "
   ]
  }
 ],
 "metadata": {
  "kernelspec": {
   "display_name": "Python 3",
   "language": "python",
   "name": "python3"
  },
  "language_info": {
   "codemirror_mode": {
    "name": "ipython",
    "version": 3
   },
   "file_extension": ".py",
   "mimetype": "text/x-python",
   "name": "python",
   "nbconvert_exporter": "python",
   "pygments_lexer": "ipython3",
   "version": "3.11.1"
  },
  "orig_nbformat": 4
 },
 "nbformat": 4,
 "nbformat_minor": 2
}
